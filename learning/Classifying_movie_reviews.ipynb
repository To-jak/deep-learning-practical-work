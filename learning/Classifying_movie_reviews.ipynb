{
  "nbformat": 4,
  "nbformat_minor": 0,
  "metadata": {
    "colab": {
      "name": "Classifying_movie_reviews.ipynb",
      "provenance": [],
      "collapsed_sections": []
    },
    "kernelspec": {
      "name": "python3",
      "display_name": "Python 3"
    }
  },
  "cells": [
    {
      "cell_type": "markdown",
      "metadata": {
        "id": "jnerU6tuaC2I",
        "colab_type": "text"
      },
      "source": [
        "# Binary classification example: classifying movie reviews\n",
        "\n",
        "Work with the IMDB dataset, trying to classify positive and negative reviews."
      ]
    },
    {
      "cell_type": "markdown",
      "metadata": {
        "id": "RYz6IglUbW5i",
        "colab_type": "text"
      },
      "source": [
        "## Loadig the dataset"
      ]
    },
    {
      "cell_type": "code",
      "metadata": {
        "id": "KdgL-3_7aZnB",
        "colab_type": "code",
        "colab": {}
      },
      "source": [
        "from keras.datasets import imdb\n",
        "(train_data, train_labels), (test_data, test_labels) = imdb.load_data(num_words=10000)"
      ],
      "execution_count": 0,
      "outputs": []
    },
    {
      "cell_type": "markdown",
      "metadata": {
        "id": "jhcq9s9ubdVr",
        "colab_type": "text"
      },
      "source": [
        "`train_data` and `test_data` are list of reviews"
      ]
    },
    {
      "cell_type": "code",
      "metadata": {
        "id": "T9Ymcmm1a57B",
        "colab_type": "code",
        "colab": {
          "base_uri": "https://localhost:8080/",
          "height": 1000
        },
        "outputId": "b85527ec-c3eb-43ec-ee9b-7d85b8b5c0df"
      },
      "source": [
        "train_data[0]"
      ],
      "execution_count": 5,
      "outputs": [
        {
          "output_type": "execute_result",
          "data": {
            "text/plain": [
              "[1,\n",
              " 14,\n",
              " 22,\n",
              " 16,\n",
              " 43,\n",
              " 530,\n",
              " 973,\n",
              " 1622,\n",
              " 1385,\n",
              " 65,\n",
              " 458,\n",
              " 4468,\n",
              " 66,\n",
              " 3941,\n",
              " 4,\n",
              " 173,\n",
              " 36,\n",
              " 256,\n",
              " 5,\n",
              " 25,\n",
              " 100,\n",
              " 43,\n",
              " 838,\n",
              " 112,\n",
              " 50,\n",
              " 670,\n",
              " 2,\n",
              " 9,\n",
              " 35,\n",
              " 480,\n",
              " 284,\n",
              " 5,\n",
              " 150,\n",
              " 4,\n",
              " 172,\n",
              " 112,\n",
              " 167,\n",
              " 2,\n",
              " 336,\n",
              " 385,\n",
              " 39,\n",
              " 4,\n",
              " 172,\n",
              " 4536,\n",
              " 1111,\n",
              " 17,\n",
              " 546,\n",
              " 38,\n",
              " 13,\n",
              " 447,\n",
              " 4,\n",
              " 192,\n",
              " 50,\n",
              " 16,\n",
              " 6,\n",
              " 147,\n",
              " 2025,\n",
              " 19,\n",
              " 14,\n",
              " 22,\n",
              " 4,\n",
              " 1920,\n",
              " 4613,\n",
              " 469,\n",
              " 4,\n",
              " 22,\n",
              " 71,\n",
              " 87,\n",
              " 12,\n",
              " 16,\n",
              " 43,\n",
              " 530,\n",
              " 38,\n",
              " 76,\n",
              " 15,\n",
              " 13,\n",
              " 1247,\n",
              " 4,\n",
              " 22,\n",
              " 17,\n",
              " 515,\n",
              " 17,\n",
              " 12,\n",
              " 16,\n",
              " 626,\n",
              " 18,\n",
              " 2,\n",
              " 5,\n",
              " 62,\n",
              " 386,\n",
              " 12,\n",
              " 8,\n",
              " 316,\n",
              " 8,\n",
              " 106,\n",
              " 5,\n",
              " 4,\n",
              " 2223,\n",
              " 5244,\n",
              " 16,\n",
              " 480,\n",
              " 66,\n",
              " 3785,\n",
              " 33,\n",
              " 4,\n",
              " 130,\n",
              " 12,\n",
              " 16,\n",
              " 38,\n",
              " 619,\n",
              " 5,\n",
              " 25,\n",
              " 124,\n",
              " 51,\n",
              " 36,\n",
              " 135,\n",
              " 48,\n",
              " 25,\n",
              " 1415,\n",
              " 33,\n",
              " 6,\n",
              " 22,\n",
              " 12,\n",
              " 215,\n",
              " 28,\n",
              " 77,\n",
              " 52,\n",
              " 5,\n",
              " 14,\n",
              " 407,\n",
              " 16,\n",
              " 82,\n",
              " 2,\n",
              " 8,\n",
              " 4,\n",
              " 107,\n",
              " 117,\n",
              " 5952,\n",
              " 15,\n",
              " 256,\n",
              " 4,\n",
              " 2,\n",
              " 7,\n",
              " 3766,\n",
              " 5,\n",
              " 723,\n",
              " 36,\n",
              " 71,\n",
              " 43,\n",
              " 530,\n",
              " 476,\n",
              " 26,\n",
              " 400,\n",
              " 317,\n",
              " 46,\n",
              " 7,\n",
              " 4,\n",
              " 2,\n",
              " 1029,\n",
              " 13,\n",
              " 104,\n",
              " 88,\n",
              " 4,\n",
              " 381,\n",
              " 15,\n",
              " 297,\n",
              " 98,\n",
              " 32,\n",
              " 2071,\n",
              " 56,\n",
              " 26,\n",
              " 141,\n",
              " 6,\n",
              " 194,\n",
              " 7486,\n",
              " 18,\n",
              " 4,\n",
              " 226,\n",
              " 22,\n",
              " 21,\n",
              " 134,\n",
              " 476,\n",
              " 26,\n",
              " 480,\n",
              " 5,\n",
              " 144,\n",
              " 30,\n",
              " 5535,\n",
              " 18,\n",
              " 51,\n",
              " 36,\n",
              " 28,\n",
              " 224,\n",
              " 92,\n",
              " 25,\n",
              " 104,\n",
              " 4,\n",
              " 226,\n",
              " 65,\n",
              " 16,\n",
              " 38,\n",
              " 1334,\n",
              " 88,\n",
              " 12,\n",
              " 16,\n",
              " 283,\n",
              " 5,\n",
              " 16,\n",
              " 4472,\n",
              " 113,\n",
              " 103,\n",
              " 32,\n",
              " 15,\n",
              " 16,\n",
              " 5345,\n",
              " 19,\n",
              " 178,\n",
              " 32]"
            ]
          },
          "metadata": {
            "tags": []
          },
          "execution_count": 5
        }
      ]
    },
    {
      "cell_type": "markdown",
      "metadata": {
        "id": "16JXLnjzcpzN",
        "colab_type": "text"
      },
      "source": [
        "## Decoding reviews"
      ]
    },
    {
      "cell_type": "code",
      "metadata": {
        "id": "Jgnuf7NlbtM5",
        "colab_type": "code",
        "colab": {}
      },
      "source": [
        "offset = 3\n",
        "word_to_id = imdb.get_word_index()\n",
        "word_to_id = {k:v+offset for k, v in word_to_id.items()}\n",
        "word_to_id['<PAD>'] = 0\n",
        "word_to_id['<START>'] = 1\n",
        "word_to_id['<UNK>'] = 2\n",
        "\n",
        "id_to_word = {v:k for k, v in word_to_id.items()}"
      ],
      "execution_count": 0,
      "outputs": []
    },
    {
      "cell_type": "code",
      "metadata": {
        "id": "EPKzCGDodQQp",
        "colab_type": "code",
        "colab": {
          "base_uri": "https://localhost:8080/",
          "height": 54
        },
        "outputId": "a66a61bc-8cde-414d-c2db-4a1d7df3f51d"
      },
      "source": [
        "decoded_first_review = ' '.join([id_to_word[word_id] for word_id in train_data[0]])\n",
        "print(decoded_first_review)"
      ],
      "execution_count": 14,
      "outputs": [
        {
          "output_type": "stream",
          "text": [
            "<START> this film was just brilliant casting location scenery story direction everyone's really suited the part they played and you could just imagine being there robert <UNK> is an amazing actor and now the same being director <UNK> father came from the same scottish island as myself so i loved the fact there was a real connection with this film the witty remarks throughout the film were great it was just brilliant so much that i bought the film as soon as it was released for <UNK> and would recommend it to everyone to watch and the fly fishing was amazing really cried at the end it was so sad and you know what they say if you cry at a film it must have been good and this definitely was also <UNK> to the two little boy's that played the <UNK> of norman and paul they were just brilliant children are often left out of the <UNK> list i think because the stars that play them all grown up are such a big profile for the whole film but these children are amazing and should be praised for what they have done don't you think the whole story was so lovely because it was true and was someone's life after all that was shared with us all\n"
          ],
          "name": "stdout"
        }
      ]
    },
    {
      "cell_type": "code",
      "metadata": {
        "id": "bbxfnoV_d42p",
        "colab_type": "code",
        "colab": {}
      },
      "source": [
        ""
      ],
      "execution_count": 0,
      "outputs": []
    },
    {
      "cell_type": "markdown",
      "metadata": {
        "id": "M-6MLTjXmQxe",
        "colab_type": "text"
      },
      "source": [
        "## Endcoding the data into a binary matrix"
      ]
    },
    {
      "cell_type": "code",
      "metadata": {
        "id": "cATf0MIimWxf",
        "colab_type": "code",
        "colab": {}
      },
      "source": [
        "import numpy as np\n",
        "def vectorize_sequences(sequences, dimension=10000):\n",
        "  results = np.zeros((len(sequences), dimension))\n",
        "  for i, sequence in enumerate(sequences):\n",
        "    results[i, sequence] = 1\n",
        "  return results"
      ],
      "execution_count": 0,
      "outputs": []
    },
    {
      "cell_type": "code",
      "metadata": {
        "id": "yry5FaIroQS4",
        "colab_type": "code",
        "colab": {}
      },
      "source": [
        "X_train = vectorize_sequences(train_data)\n",
        "X_test = vectorize_sequences(test_data)\n",
        "\n",
        "y_train = np.array(train_labels.astype('float32'))\n",
        "y_test = np.array(test_labels.astype('float32'))"
      ],
      "execution_count": 0,
      "outputs": []
    },
    {
      "cell_type": "markdown",
      "metadata": {
        "id": "SMzl4s22rIsb",
        "colab_type": "text"
      },
      "source": [
        "## Defining the model"
      ]
    },
    {
      "cell_type": "code",
      "metadata": {
        "id": "ni2OawHyqhZQ",
        "colab_type": "code",
        "colab": {
          "base_uri": "https://localhost:8080/",
          "height": 139
        },
        "outputId": "2bc4fa49-69d1-490d-8bd2-9e6ff0206891"
      },
      "source": [
        "from keras import models\n",
        "from keras import layers\n",
        "\n",
        "model = models.Sequential()\n",
        "model.add(layers.Dense(16, activation='relu', input_shape=(10000,)))\n",
        "model.add(layers.Dense(16, activation='relu'))\n",
        "model.add(layers.Dense(1, activation='sigmoid'))"
      ],
      "execution_count": 22,
      "outputs": [
        {
          "output_type": "stream",
          "text": [
            "WARNING:tensorflow:From /usr/local/lib/python3.6/dist-packages/keras/backend/tensorflow_backend.py:66: The name tf.get_default_graph is deprecated. Please use tf.compat.v1.get_default_graph instead.\n",
            "\n",
            "WARNING:tensorflow:From /usr/local/lib/python3.6/dist-packages/keras/backend/tensorflow_backend.py:541: The name tf.placeholder is deprecated. Please use tf.compat.v1.placeholder instead.\n",
            "\n",
            "WARNING:tensorflow:From /usr/local/lib/python3.6/dist-packages/keras/backend/tensorflow_backend.py:4432: The name tf.random_uniform is deprecated. Please use tf.random.uniform instead.\n",
            "\n"
          ],
          "name": "stdout"
        }
      ]
    },
    {
      "cell_type": "markdown",
      "metadata": {
        "id": "WpSjJOsjsGR2",
        "colab_type": "text"
      },
      "source": [
        "## Compiling the model"
      ]
    },
    {
      "cell_type": "code",
      "metadata": {
        "id": "x3aB2oRfrKVg",
        "colab_type": "code",
        "colab": {
          "base_uri": "https://localhost:8080/",
          "height": 156
        },
        "outputId": "50d1319d-fab0-4a63-b8a2-84970adae5d2"
      },
      "source": [
        "model.compile(optimizer='rmsprop',\n",
        "              loss='binary_crossentropy',\n",
        "              metrics=['accuracy'])"
      ],
      "execution_count": 23,
      "outputs": [
        {
          "output_type": "stream",
          "text": [
            "WARNING:tensorflow:From /usr/local/lib/python3.6/dist-packages/keras/optimizers.py:793: The name tf.train.Optimizer is deprecated. Please use tf.compat.v1.train.Optimizer instead.\n",
            "\n",
            "WARNING:tensorflow:From /usr/local/lib/python3.6/dist-packages/keras/backend/tensorflow_backend.py:3657: The name tf.log is deprecated. Please use tf.math.log instead.\n",
            "\n",
            "WARNING:tensorflow:From /usr/local/lib/python3.6/dist-packages/tensorflow_core/python/ops/nn_impl.py:183: where (from tensorflow.python.ops.array_ops) is deprecated and will be removed in a future version.\n",
            "Instructions for updating:\n",
            "Use tf.where in 2.0, which has the same broadcast rule as np.where\n"
          ],
          "name": "stdout"
        }
      ]
    },
    {
      "cell_type": "code",
      "metadata": {
        "id": "-BZvbBKxs02e",
        "colab_type": "code",
        "colab": {}
      },
      "source": [
        ""
      ],
      "execution_count": 0,
      "outputs": []
    },
    {
      "cell_type": "markdown",
      "metadata": {
        "id": "gGjV7c3_s3Hp",
        "colab_type": "text"
      },
      "source": [
        "## Defining validation data"
      ]
    },
    {
      "cell_type": "code",
      "metadata": {
        "id": "1Y_oUR8ps8rA",
        "colab_type": "code",
        "colab": {}
      },
      "source": [
        "X_val = X_train[:10000]\n",
        "partial_X_train = X_train[10000:]\n",
        "\n",
        "y_val = y_train[:10000]\n",
        "partial_y_train = y_train[10000:]"
      ],
      "execution_count": 0,
      "outputs": []
    },
    {
      "cell_type": "markdown",
      "metadata": {
        "id": "LN8SpZzYtTxr",
        "colab_type": "text"
      },
      "source": [
        "# Training the model"
      ]
    },
    {
      "cell_type": "code",
      "metadata": {
        "id": "h1rte4yttQhr",
        "colab_type": "code",
        "colab": {
          "base_uri": "https://localhost:8080/",
          "height": 1000
        },
        "outputId": "e15edd44-6561-4b20-dcda-e9990041d0f9"
      },
      "source": [
        "history = model.fit(partial_X_train,\n",
        "                    partial_y_train,\n",
        "                    batch_size=512,\n",
        "                    epochs=20,\n",
        "                    validation_data=(X_val, y_val))"
      ],
      "execution_count": 26,
      "outputs": [
        {
          "output_type": "stream",
          "text": [
            "WARNING:tensorflow:From /usr/local/lib/python3.6/dist-packages/keras/backend/tensorflow_backend.py:1033: The name tf.assign_add is deprecated. Please use tf.compat.v1.assign_add instead.\n",
            "\n",
            "WARNING:tensorflow:From /usr/local/lib/python3.6/dist-packages/keras/backend/tensorflow_backend.py:1020: The name tf.assign is deprecated. Please use tf.compat.v1.assign instead.\n",
            "\n",
            "WARNING:tensorflow:From /usr/local/lib/python3.6/dist-packages/keras/backend/tensorflow_backend.py:3005: The name tf.Session is deprecated. Please use tf.compat.v1.Session instead.\n",
            "\n",
            "Train on 15000 samples, validate on 10000 samples\n",
            "Epoch 1/20\n",
            "WARNING:tensorflow:From /usr/local/lib/python3.6/dist-packages/keras/backend/tensorflow_backend.py:190: The name tf.get_default_session is deprecated. Please use tf.compat.v1.get_default_session instead.\n",
            "\n",
            "WARNING:tensorflow:From /usr/local/lib/python3.6/dist-packages/keras/backend/tensorflow_backend.py:197: The name tf.ConfigProto is deprecated. Please use tf.compat.v1.ConfigProto instead.\n",
            "\n",
            "WARNING:tensorflow:From /usr/local/lib/python3.6/dist-packages/keras/backend/tensorflow_backend.py:207: The name tf.global_variables is deprecated. Please use tf.compat.v1.global_variables instead.\n",
            "\n",
            "WARNING:tensorflow:From /usr/local/lib/python3.6/dist-packages/keras/backend/tensorflow_backend.py:216: The name tf.is_variable_initialized is deprecated. Please use tf.compat.v1.is_variable_initialized instead.\n",
            "\n",
            "WARNING:tensorflow:From /usr/local/lib/python3.6/dist-packages/keras/backend/tensorflow_backend.py:223: The name tf.variables_initializer is deprecated. Please use tf.compat.v1.variables_initializer instead.\n",
            "\n",
            "15000/15000 [==============================] - 3s 183us/step - loss: 0.5262 - acc: 0.7786 - val_loss: 0.3907 - val_acc: 0.8737\n",
            "Epoch 2/20\n",
            "15000/15000 [==============================] - 2s 116us/step - loss: 0.3158 - acc: 0.9021 - val_loss: 0.3085 - val_acc: 0.8903\n",
            "Epoch 3/20\n",
            "15000/15000 [==============================] - 2s 116us/step - loss: 0.2348 - acc: 0.9245 - val_loss: 0.2822 - val_acc: 0.8905\n",
            "Epoch 4/20\n",
            "15000/15000 [==============================] - 2s 115us/step - loss: 0.1798 - acc: 0.9423 - val_loss: 0.3131 - val_acc: 0.8766\n",
            "Epoch 5/20\n",
            "15000/15000 [==============================] - 2s 116us/step - loss: 0.1472 - acc: 0.9529 - val_loss: 0.2780 - val_acc: 0.8900\n",
            "Epoch 6/20\n",
            "15000/15000 [==============================] - 2s 115us/step - loss: 0.1228 - acc: 0.9611 - val_loss: 0.3008 - val_acc: 0.8863\n",
            "Epoch 7/20\n",
            "15000/15000 [==============================] - 2s 115us/step - loss: 0.0998 - acc: 0.9710 - val_loss: 0.3139 - val_acc: 0.8845\n",
            "Epoch 8/20\n",
            "15000/15000 [==============================] - 2s 114us/step - loss: 0.0833 - acc: 0.9762 - val_loss: 0.3256 - val_acc: 0.8822\n",
            "Epoch 9/20\n",
            "15000/15000 [==============================] - 2s 115us/step - loss: 0.0699 - acc: 0.9806 - val_loss: 0.3557 - val_acc: 0.8777\n",
            "Epoch 10/20\n",
            "15000/15000 [==============================] - 2s 116us/step - loss: 0.0570 - acc: 0.9862 - val_loss: 0.3700 - val_acc: 0.8786\n",
            "Epoch 11/20\n",
            "15000/15000 [==============================] - 2s 116us/step - loss: 0.0452 - acc: 0.9907 - val_loss: 0.3977 - val_acc: 0.8763\n",
            "Epoch 12/20\n",
            "15000/15000 [==============================] - 2s 117us/step - loss: 0.0381 - acc: 0.9911 - val_loss: 0.4306 - val_acc: 0.8747\n",
            "Epoch 13/20\n",
            "15000/15000 [==============================] - 2s 115us/step - loss: 0.0292 - acc: 0.9941 - val_loss: 0.4561 - val_acc: 0.8733\n",
            "Epoch 14/20\n",
            "15000/15000 [==============================] - 2s 115us/step - loss: 0.0248 - acc: 0.9949 - val_loss: 0.4828 - val_acc: 0.8717\n",
            "Epoch 15/20\n",
            "15000/15000 [==============================] - 2s 113us/step - loss: 0.0200 - acc: 0.9965 - val_loss: 0.5128 - val_acc: 0.8696\n",
            "Epoch 16/20\n",
            "15000/15000 [==============================] - 2s 111us/step - loss: 0.0143 - acc: 0.9985 - val_loss: 0.5457 - val_acc: 0.8694\n",
            "Epoch 17/20\n",
            "15000/15000 [==============================] - 2s 113us/step - loss: 0.0106 - acc: 0.9995 - val_loss: 0.6305 - val_acc: 0.8590\n",
            "Epoch 18/20\n",
            "15000/15000 [==============================] - 2s 112us/step - loss: 0.0112 - acc: 0.9985 - val_loss: 0.6159 - val_acc: 0.8669\n",
            "Epoch 19/20\n",
            "15000/15000 [==============================] - 2s 112us/step - loss: 0.0060 - acc: 0.9997 - val_loss: 0.7583 - val_acc: 0.8568\n",
            "Epoch 20/20\n",
            "15000/15000 [==============================] - 2s 112us/step - loss: 0.0073 - acc: 0.9989 - val_loss: 0.6834 - val_acc: 0.8677\n"
          ],
          "name": "stdout"
        }
      ]
    },
    {
      "cell_type": "code",
      "metadata": {
        "id": "ZnZ1grJDt5Uf",
        "colab_type": "code",
        "colab": {
          "base_uri": "https://localhost:8080/",
          "height": 301
        },
        "outputId": "ff9352b5-5040-4ec6-d212-9c9822418369"
      },
      "source": [
        "import matplotlib.pyplot as plt\n",
        "import seaborn as sns\n",
        "sns.set()\n",
        "\n",
        "loss_values = history.history['loss']\n",
        "val_loss_values = history.history['val_loss']\n",
        "\n",
        "epochs = range(1, 21)\n",
        "\n",
        "plt.figure()\n",
        "plt.title('Training and validation loss')\n",
        "plt.plot(epochs, loss_values, 'bo', label='Training loss')\n",
        "plt.plot(epochs, val_loss_values, 'b', label='Validation loss')\n",
        "plt.xlabel('Epochs')\n",
        "plt.ylabel('Loss')\n",
        "plt.legend()\n",
        "\n",
        "plt.show()"
      ],
      "execution_count": 27,
      "outputs": [
        {
          "output_type": "display_data",
          "data": {
            "image/png": "[encoded data removed]",
            "text/plain": [
              "<Figure size 432x288 with 1 Axes>"
            ]
          },
          "metadata": {
            "tags": []
          }
        }
      ]
    },
    {
      "cell_type": "code",
      "metadata": {
        "id": "-WM2VP4dvlNB",
        "colab_type": "code",
        "colab": {
          "base_uri": "https://localhost:8080/",
          "height": 301
        },
        "outputId": "b7d69506-132f-4a8b-9565-c97aa816e649"
      },
      "source": [
        "acc_values = history.history['acc']\n",
        "val_acc_values = history.history['val_acc']\n",
        "\n",
        "plt.figure()\n",
        "plt.title('Training and validation accuracy')\n",
        "plt.plot(epochs, acc_values, 'bo', label='Training accuracy')\n",
        "plt.plot(epochs, val_acc_values, 'b', label='Validation accuracy')\n",
        "plt.xlabel('Epochs')\n",
        "plt.ylabel('Accuracy')\n",
        "plt.legend()\n",
        "\n",
        "plt.show()"
      ],
      "execution_count": 28,
      "outputs": [
        {
          "output_type": "display_data",
          "data": {
            "image/png": "[encoded data removed]",
            "text/plain": [
              "<Figure size 432x288 with 1 Axes>"
            ]
          },
          "metadata": {
            "tags": []
          }
        }
      ]
    },
    {
      "cell_type": "markdown",
      "metadata": {
        "id": "SnRdmbF3wMNT",
        "colab_type": "text"
      },
      "source": [
        "**Comments**: case of *overfitting*, we could stop the training after 4 epochs."
      ]
    },
    {
      "cell_type": "code",
      "metadata": {
        "id": "skk_Gt4Fv-Q3",
        "colab_type": "code",
        "colab": {
          "base_uri": "https://localhost:8080/",
          "height": 170
        },
        "outputId": "79236774-8e61-4733-ea75-4007ba581dcc"
      },
      "source": [
        "model.fit(X_train, y_train, epochs=4, batch_size=512)\n",
        "results = model.evaluate(X_test, y_test)"
      ],
      "execution_count": 29,
      "outputs": [
        {
          "output_type": "stream",
          "text": [
            "Epoch 1/4\n",
            "25000/25000 [==============================] - 2s 83us/step - loss: 0.2308 - acc: 0.9466\n",
            "Epoch 2/4\n",
            "25000/25000 [==============================] - 2s 82us/step - loss: 0.1417 - acc: 0.9594\n",
            "Epoch 3/4\n",
            "25000/25000 [==============================] - 2s 82us/step - loss: 0.1104 - acc: 0.9674\n",
            "Epoch 4/4\n",
            "25000/25000 [==============================] - 2s 82us/step - loss: 0.0889 - acc: 0.9732\n",
            "25000/25000 [==============================] - 2s 86us/step\n"
          ],
          "name": "stdout"
        }
      ]
    },
    {
      "cell_type": "code",
      "metadata": {
        "id": "dwIb6l0Lwy5R",
        "colab_type": "code",
        "colab": {
          "base_uri": "https://localhost:8080/",
          "height": 34
        },
        "outputId": "a510d526-6a3e-4e16-dbd4-e31576dbaedd"
      },
      "source": [
        "print(results)"
      ],
      "execution_count": 30,
      "outputs": [
        {
          "output_type": "stream",
          "text": [
            "[0.4968671940755844, 0.85936]\n"
          ],
          "name": "stdout"
        }
      ]
    },
    {
      "cell_type": "markdown",
      "metadata": {
        "id": "9M9uzVRixCT8",
        "colab_type": "text"
      },
      "source": [
        "**Comments**: around 85% of accuracy for this naive approach. State-of-the-art around 95%."
      ]
    },
    {
      "cell_type": "code",
      "metadata": {
        "id": "jAS4djO-w48Y",
        "colab_type": "code",
        "colab": {}
      },
      "source": [
        "model = models.Sequential()\n",
        "model.add(layers.Dense(32, activation='tanh', input_shape=(10000,)))\n",
        "model.add(layers.Dense(64, activation='tanh'))\n",
        "model.add(layers.Dense(1, activation='sigmoid'))\n",
        "\n",
        "model.compile(optimizer='rmsprop',\n",
        "              loss='binary_crossentropy',\n",
        "              metrics=['accuracy'])"
      ],
      "execution_count": 0,
      "outputs": []
    },
    {
      "cell_type": "code",
      "metadata": {
        "id": "Fy2TEX-SyKC3",
        "colab_type": "code",
        "colab": {
          "base_uri": "https://localhost:8080/",
          "height": 187
        },
        "outputId": "279d62a7-b7b9-4787-e155-ba07d1c1187e"
      },
      "source": [
        "model.fit(X_train, y_train, epochs=4, batch_size=512)\n",
        "results = model.evaluate(X_test, y_test)\n",
        "print(results)"
      ],
      "execution_count": 34,
      "outputs": [
        {
          "output_type": "stream",
          "text": [
            "Epoch 1/4\n",
            "25000/25000 [==============================] - 3s 103us/step - loss: 0.3844 - acc: 0.8303\n",
            "Epoch 2/4\n",
            "25000/25000 [==============================] - 2s 94us/step - loss: 0.2192 - acc: 0.9141\n",
            "Epoch 3/4\n",
            "25000/25000 [==============================] - 2s 95us/step - loss: 0.1748 - acc: 0.9344\n",
            "Epoch 4/4\n",
            "25000/25000 [==============================] - 2s 95us/step - loss: 0.1517 - acc: 0.9434\n",
            "25000/25000 [==============================] - 2s 95us/step\n",
            "[0.3390414175271988, 0.874]\n"
          ],
          "name": "stdout"
        }
      ]
    }
  ]
}